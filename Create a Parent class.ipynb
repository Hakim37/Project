{
 "cells": [
  {
   "cell_type": "markdown",
   "id": "3c904637",
   "metadata": {},
   "source": [
    "## Ex\n",
    "Create a class named Person , with firstname and lastname\n",
    "properties and a printname method:\n",
    "    "
   ]
  },
  {
   "cell_type": "code",
   "execution_count": 2,
   "id": "acdca2d6",
   "metadata": {},
   "outputs": [
    {
     "name": "stdout",
     "output_type": "stream",
     "text": [
      "John Doe\n"
     ]
    }
   ],
   "source": [
    "class Person():\n",
    "    def __init__(self,fname,lname):\n",
    "        self.firstname = fname\n",
    "        self.lastname = lname\n",
    "        \n",
    "    def printname(self):\n",
    "        print(self.firstname,self.lastname)\n",
    "        \n",
    "#Use the person class to create on object and the excute the printname method:\n",
    "\n",
    "x = Person(\"John\",\"Doe\")\n",
    "x.printname()"
   ]
  },
  {
   "cell_type": "markdown",
   "id": "4bf798c0",
   "metadata": {},
   "source": [
    "## Creat a child class"
   ]
  },
  {
   "cell_type": "code",
   "execution_count": 3,
   "id": "df8d62a7",
   "metadata": {},
   "outputs": [],
   "source": [
    "class Student(Person):\n",
    "    pass"
   ]
  },
  {
   "cell_type": "code",
   "execution_count": null,
   "id": "d678f1b5",
   "metadata": {},
   "outputs": [],
   "source": [
    "x = Student(\"Mike\",\"Olsen\")\n",
    "x.print"
   ]
  }
 ],
 "metadata": {
  "kernelspec": {
   "display_name": "Python 3",
   "language": "python",
   "name": "python3"
  },
  "language_info": {
   "codemirror_mode": {
    "name": "ipython",
    "version": 3
   },
   "file_extension": ".py",
   "mimetype": "text/x-python",
   "name": "python",
   "nbconvert_exporter": "python",
   "pygments_lexer": "ipython3",
   "version": "3.8.8"
  }
 },
 "nbformat": 4,
 "nbformat_minor": 5
}
